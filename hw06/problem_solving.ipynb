{
 "cells": [
  {
   "cell_type": "code",
   "execution_count": 1,
   "metadata": {},
   "outputs": [
    {
     "name": "stdout",
     "output_type": "stream",
     "text": [
      "0.3745401188473625 0.9507143064099162\n"
     ]
    }
   ],
   "source": [
    "import time\n",
    "import numpy as np\n",
    "from numba import njit, prange\n",
    "from SALib.sample import saltelli\n",
    "from SALib.analyze import sobol\n",
    "\n",
    "np.random.seed(42)\n",
    "a, b = np.random.sample(size=2)\n",
    "print(a,b)\n",
    "\n",
    "problem = {\n",
    "    'num_vars' : 3,\n",
    "    'names' : ['x1', 'x2', 'x3'],\n",
    "    'bounds' : [[-2*np.pi, 2*np.pi],\n",
    "                [-2*np.pi, 2*np.pi],\n",
    "                [-2*np.pi, 2*np.pi]\n",
    "               ]\n",
    "}"
   ]
  },
  {
   "cell_type": "markdown",
   "metadata": {},
   "source": [
    "Первый проход:\n",
    "+ Сэмплирование как есть\n",
    "+ evaluate_model не расспаралелено\n",
    "+ sobol.analyze не расспаралелено"
   ]
  },
  {
   "cell_type": "code",
   "execution_count": 2,
   "metadata": {},
   "outputs": [
    {
     "name": "stdout",
     "output_type": "stream",
     "text": [
      "samples generated in 5.117434978485107 seconds\n",
      "model evaluated in 5.924739122390747 seconds\n",
      "SA took 4.841145038604736 seconds\n",
      "Overall time = 15.886384010314941 seconds\n",
      "[9.83737892e-05 4.22938263e-06 9.03451318e-02]\n",
      "[0.90968766 0.90963752 0.09034513]\n",
      "x1-x2: 0.9094613526904445\n",
      "x1-x3: -6.962218545893128e-05\n",
      "x2-x3: -8.995909713094274e-06\n"
     ]
    },
    {
     "data": {
      "image/png": "[encoded data removed]",
      "text/plain": [
       "<Figure size 432x288 with 3 Axes>"
      ]
     },
     "metadata": {
      "needs_background": "light"
     },
     "output_type": "display_data"
    }
   ],
   "source": [
    "n = 2**17\n",
    "\n",
    "def evaluate_model(x):\n",
    "    return a * np.sin(x[2]) ** 2 * np.cos(x[2]) + b * np.sin(x[0])**3 * np.cos(x[1])**3\n",
    "\n",
    "### Sampling\n",
    "START = time.time()\n",
    "start = time.time()\n",
    "param_values = saltelli.sample(problem, n)\n",
    "print(f\"samples generated in {(time.time() - start)} seconds\")\n",
    "Y = np.zeros([param_values.shape[0]])\n",
    "\n",
    "#Evaluation\n",
    "start = time.time()\n",
    "for i, X in enumerate(param_values):\n",
    "    Y[i] = evaluate_model(X)\n",
    "\n",
    "print(f\"model evaluated in {(time.time() - start)} seconds\")\n",
    "\n",
    "# Analyze\n",
    "start = time.time()\n",
    "Si = sobol.analyze(problem, Y)\n",
    "\n",
    "print(f\"SA took {(time.time() - start)} seconds\")\n",
    "print(f\"Overall time = {time.time() - START} seconds\")\n",
    "\n",
    "#Solution\n",
    "print(Si['S1'])\n",
    "print(Si['ST'])\n",
    "print(\"x1-x2:\", Si['S2'][0,1])\n",
    "print(\"x1-x3:\", Si['S2'][0,2])\n",
    "print(\"x2-x3:\", Si['S2'][1,2])\n",
    "\n",
    "Si.plot();"
   ]
  },
  {
   "cell_type": "markdown",
   "metadata": {},
   "source": [
    "перепишем функцию evaluate model через numba для паралелизации\n",
    "\n",
    "Второй проход:\n",
    "+ Сэмплирование как есть\n",
    "+ evaluate_model расспаралелено\n",
    "+ sobol.analyze не расспаралелено"
   ]
  },
  {
   "cell_type": "code",
   "execution_count": 3,
   "metadata": {},
   "outputs": [
    {
     "name": "stdout",
     "output_type": "stream",
     "text": [
      "samples generated in 5.096502065658569 seconds\n",
      "model evaluated in 0.7096209526062012 seconds\n",
      "SA took 4.933300971984863 seconds\n",
      "Overall time = 10.744753122329712 seconds\n",
      "[9.83737892e-05 4.22938263e-06 9.03451318e-02]\n",
      "[0.90968766 0.90963752 0.09034513]\n",
      "x1-x2: 0.9094613526904448\n",
      "x1-x3: -6.962218545893128e-05\n",
      "x2-x3: -8.995909713094274e-06\n"
     ]
    },
    {
     "data": {
      "image/png": "[encoded data removed]",
      "text/plain": [
       "<Figure size 432x288 with 3 Axes>"
      ]
     },
     "metadata": {
      "needs_background": "light"
     },
     "output_type": "display_data"
    }
   ],
   "source": [
    "n = 2**17\n",
    "\n",
    "@njit\n",
    "def evaluate_model(x):\n",
    "    return a * np.sin(x[2]) ** 2 * np.cos(x[2]) + b * np.sin(x[0])**3 * np.cos(x[1])**3\n",
    "\n",
    "### Sampling\n",
    "START = time.time()\n",
    "start = time.time()\n",
    "param_values = saltelli.sample(problem, n)\n",
    "print(f\"samples generated in {(time.time() - start)} seconds\")\n",
    "Y = np.zeros([param_values.shape[0]])\n",
    "\n",
    "#Evaluation\n",
    "start = time.time()\n",
    "for i, X in enumerate(param_values):\n",
    "    Y[i] = evaluate_model(X)\n",
    "\n",
    "print(f\"model evaluated in {(time.time() - start)} seconds\")\n",
    "\n",
    "# Analyze\n",
    "start = time.time()\n",
    "Si = sobol.analyze(problem, Y)\n",
    "\n",
    "print(f\"SA took {(time.time() - start)} seconds\")\n",
    "\n",
    "print(f\"Overall time = {time.time() - START} seconds\")\n",
    "\n",
    "#Solution\n",
    "print(Si['S1'])\n",
    "print(Si['ST'])\n",
    "print(\"x1-x2:\", Si['S2'][0,1])\n",
    "print(\"x1-x3:\", Si['S2'][0,2])\n",
    "print(\"x2-x3:\", Si['S2'][1,2])\n",
    "\n",
    "Si.plot();"
   ]
  },
  {
   "cell_type": "markdown",
   "metadata": {},
   "source": [
    "Видим что время на evaluate_model сократилось почти в 10 раз!"
   ]
  },
  {
   "cell_type": "markdown",
   "metadata": {},
   "source": [
    "попробуем расспаралелить sobol.analyze с помощью флага в parallel = True\n",
    "\n",
    "Третий проход:\n",
    "+ Сэмплирование как есть\n",
    "+ evaluate_model расспаралелено\n",
    "+ sobol.analyze расспаралелено"
   ]
  },
  {
   "cell_type": "code",
   "execution_count": 4,
   "metadata": {},
   "outputs": [
    {
     "name": "stdout",
     "output_type": "stream",
     "text": [
      "samples generated in 5.138713121414185 seconds\n",
      "model evaluated in 0.5880441665649414 seconds\n",
      "SA took 5.488387107849121 seconds\n",
      "Overall time = 11.218425750732422 seconds\n",
      "[9.83737892e-05 4.22938263e-06 9.03451318e-02]\n",
      "[0.90968766 0.90963752 0.09034513]\n",
      "x1-x2: 0.9094613526904448\n",
      "x1-x3: -6.962218545893128e-05\n",
      "x2-x3: -8.995909713094274e-06\n"
     ]
    },
    {
     "data": {
      "image/png": "[encoded data removed]",
      "text/plain": [
       "<Figure size 432x288 with 3 Axes>"
      ]
     },
     "metadata": {
      "needs_background": "light"
     },
     "output_type": "display_data"
    }
   ],
   "source": [
    "@njit\n",
    "def evaluate_model(x):\n",
    "    return a * np.sin(x[2]) ** 2 * np.cos(x[2]) + b * np.sin(x[0])**3 * np.cos(x[1])**3\n",
    "\n",
    "n = 2**17\n",
    "\n",
    "### Sampling\n",
    "START = time.time()\n",
    "start = time.time()\n",
    "param_values = saltelli.sample(problem, n)\n",
    "print(f\"samples generated in {(time.time() - start)} seconds\")\n",
    "Y = np.zeros([param_values.shape[0]])\n",
    "\n",
    "#Evaluation\n",
    "start = time.time()\n",
    "for i, X in enumerate(param_values):\n",
    "    Y[i] = evaluate_model(X)\n",
    "\n",
    "print(f\"model evaluated in {(time.time() - start)} seconds\")\n",
    "\n",
    "# Analyze\n",
    "start = time.time()\n",
    "Si = sobol.analyze(problem, Y, parallel=True, n_processors = 2)\n",
    "\n",
    "print(f\"SA took {(time.time() - start)} seconds\")\n",
    "\n",
    "print(f\"Overall time = {time.time() - START} seconds\")\n",
    "\n",
    "#Solution\n",
    "print(Si['S1'])\n",
    "print(Si['ST'])\n",
    "print(\"x1-x2:\", Si['S2'][0,1])\n",
    "print(\"x1-x3:\", Si['S2'][0,2])\n",
    "print(\"x2-x3:\", Si['S2'][1,2])\n",
    "\n",
    "Si.plot();"
   ]
  },
  {
   "cell_type": "markdown",
   "metadata": {},
   "source": [
    "время на sobol.analyze уменьшилось, но не значительно. Увеличивать количество процессоров более чем на 2 на моем железе - только усугубляет проблему, так как требуется дополнительное время на выделение работы на процессоры, из-за чего на n_processors > 2, только ухудшить ситуацию.\n",
    "\n",
    "P.S. - как оказалось даже не всегда с n_processors=2 время становится быстрее."
   ]
  },
  {
   "cell_type": "markdown",
   "metadata": {},
   "source": [
    "Четвертый проход:\n",
    "+ Сэмплирование расспаралелено\n",
    "+ evaluate_model расспаралелено\n",
    "+ sobol.analyze расспаралелено"
   ]
  },
  {
   "cell_type": "code",
   "execution_count": 5,
   "metadata": {},
   "outputs": [],
   "source": [
    "import multiprocessing as mp\n",
    "def sample_func_classic(args):\n",
    "    problem, n, i = args\n",
    "    return saltelli.sample(problem, n, i*n)\n",
    "\n",
    "num_workers = 2\n",
    "result = []\n",
    "with mp.Pool(num_workers) as pool:\n",
    "    result = pool.map(sample_func_classic, [(problem, n // num_workers, i+1) for i in range(num_workers)])"
   ]
  },
  {
   "cell_type": "code",
   "execution_count": 6,
   "metadata": {},
   "outputs": [
    {
     "data": {
      "text/plain": [
       "[array([[-6.28289769e+00, -9.58737992e-05, -3.51760969e-01],\n",
       "        [ 4.88620818e+00, -9.58737992e-05, -3.51760969e-01],\n",
       "        [-6.28289769e+00, -1.46102083e+00, -3.51760969e-01],\n",
       "        ...,\n",
       "        [-4.68487320e+00,  9.58737992e-05, -2.74879770e+00],\n",
       "        [-4.68487320e+00, -4.58823241e+00,  5.12972763e+00],\n",
       "        [-4.68487320e+00, -4.58823241e+00, -2.74879770e+00]]),\n",
       " array([[-6.28289769e+00, -9.58737992e-05, -3.51760969e-01],\n",
       "        [ 4.88620818e+00, -9.58737992e-05, -3.51760969e-01],\n",
       "        [-6.28289769e+00, -1.46102083e+00, -3.51760969e-01],\n",
       "        ...,\n",
       "        [-4.68487320e+00,  9.58737992e-05, -2.74879770e+00],\n",
       "        [-4.68487320e+00, -4.58823241e+00,  5.12972763e+00],\n",
       "        [-4.68487320e+00, -4.58823241e+00, -2.74879770e+00]])]"
      ]
     },
     "execution_count": 6,
     "metadata": {},
     "output_type": "execute_result"
    }
   ],
   "source": [
    "result"
   ]
  },
  {
   "cell_type": "markdown",
   "metadata": {},
   "source": [
    "видимо не получится расспаралелить сэмплирование, потому что saltelli.sample генерирует последовательность последовательно и детерминировано. Хотя и быстрее :)"
   ]
  }
 ],
 "metadata": {
  "kernelspec": {
   "display_name": "Python 3.7.11 ('study')",
   "language": "python",
   "name": "python3"
  },
  "language_info": {
   "codemirror_mode": {
    "name": "ipython",
    "version": 3
   },
   "file_extension": ".py",
   "mimetype": "text/x-python",
   "name": "python",
   "nbconvert_exporter": "python",
   "pygments_lexer": "ipython3",
   "version": "3.7.11"
  },
  "orig_nbformat": 4,
  "vscode": {
   "interpreter": {
    "hash": "25939df0532684fceaf226388064dc95ee2f46fc0c98d0635c85de6e02aa4b9d"
   }
  }
 },
 "nbformat": 4,
 "nbformat_minor": 2
}
