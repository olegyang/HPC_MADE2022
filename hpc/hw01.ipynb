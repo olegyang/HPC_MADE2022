{
 "cells": [
  {
   "cell_type": "code",
   "execution_count": 117,
   "metadata": {},
   "outputs": [],
   "source": [
    "import pandas as pd\n",
    "import json\n",
    "import numpy as np\n",
    "import statsmodels.api as sm\n",
    "import matplotlib.pyplot as plt"
   ]
  },
  {
   "cell_type": "markdown",
   "metadata": {},
   "source": [
    "### 50% На основании данных рейтинга top500 спрогнозировать  производительность компьютера №1 в 2025"
   ]
  },
  {
   "cell_type": "code",
   "execution_count": 79,
   "metadata": {},
   "outputs": [
    {
     "data": {
      "text/html": [
       "<div>\n",
       "<style scoped>\n",
       "    .dataframe tbody tr th:only-of-type {\n",
       "        vertical-align: middle;\n",
       "    }\n",
       "\n",
       "    .dataframe tbody tr th {\n",
       "        vertical-align: top;\n",
       "    }\n",
       "\n",
       "    .dataframe thead th {\n",
       "        text-align: right;\n",
       "    }\n",
       "</style>\n",
       "<table border=\"1\" class=\"dataframe\">\n",
       "  <thead>\n",
       "    <tr style=\"text-align: right;\">\n",
       "      <th></th>\n",
       "      <th>1993-06-01</th>\n",
       "      <th>1993-11-01</th>\n",
       "      <th>1994-06-01</th>\n",
       "      <th>1994-11-01</th>\n",
       "      <th>1995-06-01</th>\n",
       "      <th>1995-11-01</th>\n",
       "      <th>1996-06-01</th>\n",
       "      <th>1996-11-01</th>\n",
       "      <th>1997-06-01</th>\n",
       "      <th>1997-11-01</th>\n",
       "      <th>...</th>\n",
       "      <th>2017-11-01</th>\n",
       "      <th>2018-06-01</th>\n",
       "      <th>2018-11-01</th>\n",
       "      <th>2019-06-01</th>\n",
       "      <th>2019-11-01</th>\n",
       "      <th>2020-06-01</th>\n",
       "      <th>2020-11-01</th>\n",
       "      <th>2021-06-01</th>\n",
       "      <th>2021-11-01</th>\n",
       "      <th>2022-06-01</th>\n",
       "    </tr>\n",
       "  </thead>\n",
       "  <tbody>\n",
       "    <tr>\n",
       "      <th>Sum</th>\n",
       "      <td>[1100.0, GFlop/s]</td>\n",
       "      <td>[1500.0, GFlop/s]</td>\n",
       "      <td>[2300.0, GFlop/s]</td>\n",
       "      <td>[2700.0, GFlop/s]</td>\n",
       "      <td>[3900.0, GFlop/s]</td>\n",
       "      <td>[4800.0, GFlop/s]</td>\n",
       "      <td>[5900.0, GFlop/s]</td>\n",
       "      <td>[8000.0, GFlop/s]</td>\n",
       "      <td>[12800.0, GFlop/s]</td>\n",
       "      <td>[16900.0, GFlop/s]</td>\n",
       "      <td>...</td>\n",
       "      <td>[849600000.0, GFlop/s]</td>\n",
       "      <td>[1200000000.0, GFlop/s]</td>\n",
       "      <td>[1400000000.0, GFlop/s]</td>\n",
       "      <td>[1600000000.0, GFlop/s]</td>\n",
       "      <td>[1600000000.0, GFlop/s]</td>\n",
       "      <td>[2200000000.0, GFlop/s]</td>\n",
       "      <td>[2400000000.0, GFlop/s]</td>\n",
       "      <td>[2800000000.0, GFlop/s]</td>\n",
       "      <td>[3000000000.0, GFlop/s]</td>\n",
       "      <td>[4400000000.0, GFlop/s]</td>\n",
       "    </tr>\n",
       "    <tr>\n",
       "      <th>#1</th>\n",
       "      <td>[59.7, GFlop/s]</td>\n",
       "      <td>[124.0, GFlop/s]</td>\n",
       "      <td>[143.4, GFlop/s]</td>\n",
       "      <td>[170.0, GFlop/s]</td>\n",
       "      <td>[170.0, GFlop/s]</td>\n",
       "      <td>[170.0, GFlop/s]</td>\n",
       "      <td>[220.4, GFlop/s]</td>\n",
       "      <td>[368.2, GFlop/s]</td>\n",
       "      <td>[1100.0, GFlop/s]</td>\n",
       "      <td>[1300.0, GFlop/s]</td>\n",
       "      <td>...</td>\n",
       "      <td>[93000000.0, GFlop/s]</td>\n",
       "      <td>[122300000.0, GFlop/s]</td>\n",
       "      <td>[143500000.0, GFlop/s]</td>\n",
       "      <td>[148600000.0, GFlop/s]</td>\n",
       "      <td>[148600000.0, GFlop/s]</td>\n",
       "      <td>[415500000.0, GFlop/s]</td>\n",
       "      <td>[442000000.0, GFlop/s]</td>\n",
       "      <td>[442000000.0, GFlop/s]</td>\n",
       "      <td>[442000000.0, GFlop/s]</td>\n",
       "      <td>[1100000000.0, GFlop/s]</td>\n",
       "    </tr>\n",
       "    <tr>\n",
       "      <th>#500</th>\n",
       "      <td>[0.4, GFlop/s]</td>\n",
       "      <td>[0.5, GFlop/s]</td>\n",
       "      <td>[0.8, GFlop/s]</td>\n",
       "      <td>[1.2, GFlop/s]</td>\n",
       "      <td>[2.0, GFlop/s]</td>\n",
       "      <td>[2.5, GFlop/s]</td>\n",
       "      <td>[3.3, GFlop/s]</td>\n",
       "      <td>[4.6, GFlop/s]</td>\n",
       "      <td>[7.7, GFlop/s]</td>\n",
       "      <td>[9.5, GFlop/s]</td>\n",
       "      <td>...</td>\n",
       "      <td>[548700.0, GFlop/s]</td>\n",
       "      <td>[715600.0, GFlop/s]</td>\n",
       "      <td>[874800.0, GFlop/s]</td>\n",
       "      <td>[1000000.0, GFlop/s]</td>\n",
       "      <td>[1100000.0, GFlop/s]</td>\n",
       "      <td>[1200000.0, GFlop/s]</td>\n",
       "      <td>[1300000.0, GFlop/s]</td>\n",
       "      <td>[1500000.0, GFlop/s]</td>\n",
       "      <td>[1600000.0, GFlop/s]</td>\n",
       "      <td>[1600000.0, GFlop/s]</td>\n",
       "    </tr>\n",
       "  </tbody>\n",
       "</table>\n",
       "<p>3 rows × 59 columns</p>\n",
       "</div>"
      ],
      "text/plain": [
       "             1993-06-01         1993-11-01         1994-06-01  \\\n",
       "Sum   [1100.0, GFlop/s]  [1500.0, GFlop/s]  [2300.0, GFlop/s]   \n",
       "#1      [59.7, GFlop/s]   [124.0, GFlop/s]   [143.4, GFlop/s]   \n",
       "#500     [0.4, GFlop/s]     [0.5, GFlop/s]     [0.8, GFlop/s]   \n",
       "\n",
       "             1994-11-01         1995-06-01         1995-11-01  \\\n",
       "Sum   [2700.0, GFlop/s]  [3900.0, GFlop/s]  [4800.0, GFlop/s]   \n",
       "#1     [170.0, GFlop/s]   [170.0, GFlop/s]   [170.0, GFlop/s]   \n",
       "#500     [1.2, GFlop/s]     [2.0, GFlop/s]     [2.5, GFlop/s]   \n",
       "\n",
       "             1996-06-01         1996-11-01          1997-06-01  \\\n",
       "Sum   [5900.0, GFlop/s]  [8000.0, GFlop/s]  [12800.0, GFlop/s]   \n",
       "#1     [220.4, GFlop/s]   [368.2, GFlop/s]   [1100.0, GFlop/s]   \n",
       "#500     [3.3, GFlop/s]     [4.6, GFlop/s]      [7.7, GFlop/s]   \n",
       "\n",
       "              1997-11-01  ...              2017-11-01  \\\n",
       "Sum   [16900.0, GFlop/s]  ...  [849600000.0, GFlop/s]   \n",
       "#1     [1300.0, GFlop/s]  ...   [93000000.0, GFlop/s]   \n",
       "#500      [9.5, GFlop/s]  ...     [548700.0, GFlop/s]   \n",
       "\n",
       "                   2018-06-01               2018-11-01  \\\n",
       "Sum   [1200000000.0, GFlop/s]  [1400000000.0, GFlop/s]   \n",
       "#1     [122300000.0, GFlop/s]   [143500000.0, GFlop/s]   \n",
       "#500      [715600.0, GFlop/s]      [874800.0, GFlop/s]   \n",
       "\n",
       "                   2019-06-01               2019-11-01  \\\n",
       "Sum   [1600000000.0, GFlop/s]  [1600000000.0, GFlop/s]   \n",
       "#1     [148600000.0, GFlop/s]   [148600000.0, GFlop/s]   \n",
       "#500     [1000000.0, GFlop/s]     [1100000.0, GFlop/s]   \n",
       "\n",
       "                   2020-06-01               2020-11-01  \\\n",
       "Sum   [2200000000.0, GFlop/s]  [2400000000.0, GFlop/s]   \n",
       "#1     [415500000.0, GFlop/s]   [442000000.0, GFlop/s]   \n",
       "#500     [1200000.0, GFlop/s]     [1300000.0, GFlop/s]   \n",
       "\n",
       "                   2021-06-01               2021-11-01  \\\n",
       "Sum   [2800000000.0, GFlop/s]  [3000000000.0, GFlop/s]   \n",
       "#1     [442000000.0, GFlop/s]   [442000000.0, GFlop/s]   \n",
       "#500     [1500000.0, GFlop/s]     [1600000.0, GFlop/s]   \n",
       "\n",
       "                   2022-06-01  \n",
       "Sum   [4400000000.0, GFlop/s]  \n",
       "#1    [1100000000.0, GFlop/s]  \n",
       "#500     [1600000.0, GFlop/s]  \n",
       "\n",
       "[3 rows x 59 columns]"
      ]
     },
     "execution_count": 79,
     "metadata": {},
     "output_type": "execute_result"
    }
   ],
   "source": [
    "test = pd.read_json('top500.json') #спасибо коллегам с MADE за json c погодовой производительностю топ 1 суперкомьютеров\n",
    "test"
   ]
  },
  {
   "cell_type": "code",
   "execution_count": 85,
   "metadata": {},
   "outputs": [
    {
     "data": {
      "text/plain": [
       "<AxesSubplot:>"
      ]
     },
     "execution_count": 85,
     "metadata": {},
     "output_type": "execute_result"
    },
    {
     "data": {
      "image/png": "[encoded data removed]",
      "text/plain": [
       "<Figure size 432x288 with 1 Axes>"
      ]
     },
     "metadata": {
      "needs_background": "light"
     },
     "output_type": "display_data"
    }
   ],
   "source": [
    "performance = test.loc['#1'].apply(lambda x: x[0])\n",
    "performance.plot()"
   ]
  },
  {
   "cell_type": "markdown",
   "metadata": {},
   "source": [
    "Возьмем простую экстраполирующую модель - по типу Аримы.\n",
    "Также, преобразуем наш датасет в формат стационарного ряда, а именно - не абсолютное значение, а разницу между прошлым и текущим значением (прирост, падение)"
   ]
  },
  {
   "cell_type": "code",
   "execution_count": 108,
   "metadata": {},
   "outputs": [],
   "source": [
    "def inverse_pct(pct, first_value):\n",
    "    return pd.Series((np.concatenate([np.zeros((1,)), pct]) + 1).cumprod()) * first_value"
   ]
  },
  {
   "cell_type": "code",
   "execution_count": 120,
   "metadata": {},
   "outputs": [
    {
     "data": {
      "text/plain": [
       "<AxesSubplot:>"
      ]
     },
     "execution_count": 120,
     "metadata": {},
     "output_type": "execute_result"
    },
    {
     "data": {
      "image/png": "[encoded data removed]",
      "text/plain": [
       "<Figure size 432x288 with 1 Axes>"
      ]
     },
     "metadata": {
      "needs_background": "light"
     },
     "output_type": "display_data"
    }
   ],
   "source": [
    "first_value = performance.iloc[0]\n",
    "pct_performance = performance.pct_change()[1:] #первое значние это nan\n",
    "pct_performance.plot()"
   ]
  },
  {
   "cell_type": "code",
   "execution_count": 121,
   "metadata": {},
   "outputs": [
    {
     "data": {
      "text/plain": [
       "<AxesSubplot:>"
      ]
     },
     "execution_count": 121,
     "metadata": {},
     "output_type": "execute_result"
    },
    {
     "data": {
      "image/png": "[encoded data removed]",
      "text/plain": [
       "<Figure size 432x288 with 1 Axes>"
      ]
     },
     "metadata": {
      "needs_background": "light"
     },
     "output_type": "display_data"
    }
   ],
   "source": [
    "inverse_pct(pct_performance, first_value=first_value).plot()"
   ]
  },
  {
   "cell_type": "code",
   "execution_count": 260,
   "metadata": {},
   "outputs": [
    {
     "name": "stderr",
     "output_type": "stream",
     "text": [
      "/Users/18843024/opt/anaconda3/lib/python3.9/site-packages/statsmodels/tsa/base/tsa_model.py:581: ValueWarning: A date index has been provided, but it has no associated frequency information and so will be ignored when e.g. forecasting.\n",
      "  warnings.warn('A date index has been provided, but it has no'\n",
      "/Users/18843024/opt/anaconda3/lib/python3.9/site-packages/statsmodels/tsa/base/tsa_model.py:581: ValueWarning: A date index has been provided, but it has no associated frequency information and so will be ignored when e.g. forecasting.\n",
      "  warnings.warn('A date index has been provided, but it has no'\n",
      "/Users/18843024/opt/anaconda3/lib/python3.9/site-packages/statsmodels/tsa/statespace/sarimax.py:966: UserWarning: Non-stationary starting autoregressive parameters found. Using zeros as starting parameters.\n",
      "  warn('Non-stationary starting autoregressive parameters'\n",
      "/Users/18843024/opt/anaconda3/lib/python3.9/site-packages/statsmodels/tsa/base/tsa_model.py:376: ValueWarning: No supported index is available. Prediction results will be given with an integer index beginning at `start`.\n",
      "  warnings.warn('No supported index is available.'\n"
     ]
    },
    {
     "data": {
      "image/png": "[encoded data removed]",
      "text/plain": [
       "<Figure size 1080x288 with 1 Axes>"
      ]
     },
     "metadata": {
      "needs_background": "light"
     },
     "output_type": "display_data"
    }
   ],
   "source": [
    "simple_model = sm.tsa.SARIMAX(pct_performance, order=(1, 0, 1)).fit(disp=0)\n",
    "sims = simple_model.simulate(3, anchor='end', repetitions = 1)\n",
    "#Добавляем прогноз в временной ряд\n",
    "ts = pd.concat([pct_performance.reset_index(drop=True), pd.Series([i[0] for i in sims.values])], axis = 0).reset_index(drop=True)\n",
    "ts = inverse_pct(ts, first_value=first_value)\n",
    "fig, ax = plt.subplots(figsize=(15, 4))\n",
    "ts[-3:].plot(color='r', ax=ax, title = 'forecast')\n",
    "ts[:-3].plot(ax=ax, color='k', alpha=1.0, legend=False, title='true data')\n",
    "plt.show()\n",
    "#tmp_test.plot(color='r', ax=ax);"
   ]
  },
  {
   "cell_type": "code",
   "execution_count": 261,
   "metadata": {},
   "outputs": [
    {
     "data": {
      "text/plain": [
       "59    1.528944e+09\n",
       "60    1.701116e+09\n",
       "61    2.525538e+09\n",
       "dtype: float64"
      ]
     },
     "execution_count": 261,
     "metadata": {},
     "output_type": "execute_result"
    }
   ],
   "source": [
    "forecast  = ts[-3:]\n",
    "forecast"
   ]
  },
  {
   "cell_type": "markdown",
   "metadata": {},
   "source": [
    "### 50% оцените какой процент всего производимого на Земле электричества потребляют все компьютеры из top500 (на основании открытых данных top500.org)"
   ]
  },
  {
   "cell_type": "markdown",
   "metadata": {},
   "source": [
    "Предположим что все компьютеры работают целый год. В году условно 365 дней, 24 часа в сутках, 60 минут в часах и 60 секунд в минуте, итого получаем в году - 365*24*60*60 = 31536000 секунд.\n",
    "Мы можем предположить сколько всего энергии было затрачено в году по cредней максимальную производительность TFlop/s (Rmax [TFlop/s]) с разделив ее на среднею энергетическую эффективность в GFlops/Watts (Energy Efficiency [GFlops/Watts]), итого получим - (Flop/Seconds * Watt/Flop)= Watt/Seconds и поможим на кол-во секунд в году - получим кол-во Watt в год(порядки также учтем в расчетах). А потом умножим получившуюся цифру на кол-во суперкомпьютеров - предложим что их 500 :)"
   ]
  },
  {
   "cell_type": "code",
   "execution_count": null,
   "metadata": {},
   "outputs": [],
   "source": [
    "top_500_data = pd.read_csv('TOP500_202206.csv') #выгрузка с top500"
   ]
  },
  {
   "cell_type": "code",
   "execution_count": 55,
   "metadata": {},
   "outputs": [],
   "source": [
    "avg_enegry_efficiency = top_500_data[top_500_data['Energy Efficiency [GFlops/Watts]'].notna()]['Energy Efficiency [GFlops/Watts]'].mean()"
   ]
  },
  {
   "cell_type": "code",
   "execution_count": 58,
   "metadata": {},
   "outputs": [],
   "source": [
    "avg_max_performance = top_500_data[top_500_data['Rmax [TFlop/s]'].notna()]['Rmax [TFlop/s]'].apply(lambda x: float(x.replace(',','') if isinstance(x, str) else x)).mean()"
   ]
  },
  {
   "cell_type": "markdown",
   "metadata": {},
   "source": [
    "GIGA = 10^9, TERA = 10^12\n",
    "\n",
    "TERA/GIGA = 10^3"
   ]
  },
  {
   "cell_type": "code",
   "execution_count": 69,
   "metadata": {},
   "outputs": [
    {
     "name": "stdout",
     "output_type": "stream",
     "text": [
      "Unit yearly supercomputer power consumption  - 32.349 TWatts\n",
      "Overall yearly supercomputer power consumption  - 16174.461 TWatts\n"
     ]
    }
   ],
   "source": [
    "seconds_in_year = 365*24*60*60\n",
    "\n",
    "overall_power_consumtion_2022_Watts_by_supercomp = (10**3 * avg_max_performance/avg_enegry_efficiency) * seconds_in_year\n",
    "overall_power_consumtion_2022_TW_by_supercomp = overall_power_consumtion_2022_Watts / 10**12\n",
    "print(f'Unit yearly supercomputer power consumption  - {round(overall_power_consumtion_2022_TW_by_supercomp,3)} TWatts')\n",
    "\n",
    "overall_power_consumtion_2022_TW = overall_power_consumtion_2022_TW_by_supercomp * 500\n",
    "print(f'Overall yearly supercomputer power consumption  - {round(overall_power_consumtion_2022_TW, 3)} TWatts')"
   ]
  },
  {
   "cell_type": "markdown",
   "metadata": {},
   "source": [
    "Используем данные о производстве электричества с сайта https://ourworldindata.org/electricity-mix (данные до 2021 года, предположим что в 2022 то же значние что и в 2022).\n",
    "\n",
    "Данные в формате TWatts * Hour, и предположим что каждый час производится энергия. Итого помножим TWatts * Hour * кол-во часов в год, и получим общее значение произведенной энергии."
   ]
  },
  {
   "cell_type": "code",
   "execution_count": 74,
   "metadata": {},
   "outputs": [
    {
     "name": "stdout",
     "output_type": "stream",
     "text": [
      "Overall Yearly Electricity Production - 1865740783.686819 TWatts\n"
     ]
    }
   ],
   "source": [
    "electricity_by_source_data = pd.read_csv('electricity-prod-source-stacked.csv')\n",
    "electricity_by_source_data['Electricity_sum_TWh'] = electricity_by_source_data['Electricity from solar (TWh)'] + electricity_by_source_data['Electricity from wind (TWh)'] + electricity_by_source_data['Electricity from hydro (TWh)'] + electricity_by_source_data['Electricity from nuclear (TWh)'] + \\\n",
    "    electricity_by_source_data['Electricity from oil (TWh)'] + electricity_by_source_data['Electricity from gas (TWh)'] + \\\n",
    "    electricity_by_source_data['Electricity from coal (TWh)'] + \\\n",
    "    electricity_by_source_data['Other renewables including bioenergy (TWh)']\n",
    "\n",
    "electricity_production_2021_year = electricity_by_source_data[['Year','Electricity_sum_TWh']].groupby('Year').sum()[-1:].values[0][0] * 365 * 24\n",
    "print(f'Overall Yearly Electricity Production - {electricity_production_2021_year} TWatts')"
   ]
  },
  {
   "cell_type": "code",
   "execution_count": 75,
   "metadata": {},
   "outputs": [
    {
     "name": "stdout",
     "output_type": "stream",
     "text": [
      "Supercomputers consumption % from overall energy production - 0.0008669189909088823 %\n"
     ]
    }
   ],
   "source": [
    "print(f'Supercomputers consumption % from overall energy production - {overall_power_consumtion_2022_TW * 100 / electricity_production_2021_year} %')"
   ]
  },
  {
   "cell_type": "markdown",
   "metadata": {},
   "source": [
    "Надеюсь расчеты верны :)"
   ]
  }
 ],
 "metadata": {
  "kernelspec": {
   "display_name": "Python 3.9.7 ('base')",
   "language": "python",
   "name": "python3"
  },
  "language_info": {
   "codemirror_mode": {
    "name": "ipython",
    "version": 3
   },
   "file_extension": ".py",
   "mimetype": "text/x-python",
   "name": "python",
   "nbconvert_exporter": "python",
   "pygments_lexer": "ipython3",
   "version": "3.9.7"
  },
  "orig_nbformat": 4,
  "vscode": {
   "interpreter": {
    "hash": "2f0766cbe0fce5588b985dfb4fd8e0d4bdfdab4da5ce54054f5be6b3b99b425d"
   }
  }
 },
 "nbformat": 4,
 "nbformat_minor": 2
}
